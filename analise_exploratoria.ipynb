{
 "cells": [
  {
   "cell_type": "code",
   "execution_count": 1,
   "metadata": {},
   "outputs": [
    {
     "name": "stdout",
     "output_type": "stream",
     "text": [
      "Defaulting to user installation because normal site-packages is not writeable\n",
      "Collecting sklearn\n",
      "  Downloading sklearn-0.0.post10.tar.gz (3.6 kB)\n",
      "  Preparing metadata (setup.py) ... \u001b[?25ldone\n",
      "\u001b[?25hBuilding wheels for collected packages: sklearn\n",
      "  Building wheel for sklearn (setup.py) ... \u001b[?25ldone\n",
      "\u001b[?25h  Created wheel for sklearn: filename=sklearn-0.0.post10-py3-none-any.whl size=2370 sha256=e115879a97608107d752f2b096d20982b80b61fbb3d5d0ef26042d6d91c83e9d\n",
      "  Stored in directory: /home/clara/.cache/pip/wheels/5b/f6/92/0173054cc528db7ffe7b0c7652a96c3102aab156a6da960387\n",
      "Successfully built sklearn\n",
      "Installing collected packages: sklearn\n",
      "Successfully installed sklearn-0.0.post10\n"
     ]
    }
   ],
   "source": [
    "! pip install sklearn"
   ]
  },
  {
   "cell_type": "code",
   "execution_count": 2,
   "metadata": {},
   "outputs": [
    {
     "ename": "ModuleNotFoundError",
     "evalue": "No module named 'missingno'",
     "output_type": "error",
     "traceback": [
      "\u001b[0;31m---------------------------------------------------------------------------\u001b[0m",
      "\u001b[0;31mModuleNotFoundError\u001b[0m                       Traceback (most recent call last)",
      "\u001b[1;32m/home/clara/Área de Trabalho/ADA/Machine Learning I - Pasta Geral/modelo-de-machine-learning-predicao-da-qualidade-de-vinho/analise_exploratoria.ipynb Célula 2\u001b[0m line \u001b[0;36m1\n\u001b[1;32m     <a href='vscode-notebook-cell:/home/clara/%C3%81rea%20de%20Trabalho/ADA/Machine%20Learning%20I%20-%20Pasta%20Geral/modelo-de-machine-learning-predicao-da-qualidade-de-vinho/analise_exploratoria.ipynb#W0sZmlsZQ%3D%3D?line=9'>10</a>\u001b[0m \u001b[39mfrom\u001b[39;00m \u001b[39mmatplotlib\u001b[39;00m \u001b[39mimport\u001b[39;00m style\n\u001b[1;32m     <a href='vscode-notebook-cell:/home/clara/%C3%81rea%20de%20Trabalho/ADA/Machine%20Learning%20I%20-%20Pasta%20Geral/modelo-de-machine-learning-predicao-da-qualidade-de-vinho/analise_exploratoria.ipynb#W0sZmlsZQ%3D%3D?line=10'>11</a>\u001b[0m \u001b[39mimport\u001b[39;00m \u001b[39mseaborn\u001b[39;00m \u001b[39mas\u001b[39;00m \u001b[39msns\u001b[39;00m\n\u001b[0;32m---> <a href='vscode-notebook-cell:/home/clara/%C3%81rea%20de%20Trabalho/ADA/Machine%20Learning%20I%20-%20Pasta%20Geral/modelo-de-machine-learning-predicao-da-qualidade-de-vinho/analise_exploratoria.ipynb#W0sZmlsZQ%3D%3D?line=11'>12</a>\u001b[0m \u001b[39mimport\u001b[39;00m \u001b[39mmissingno\u001b[39;00m \u001b[39mas\u001b[39;00m \u001b[39mmsno\u001b[39;00m\n\u001b[1;32m     <a href='vscode-notebook-cell:/home/clara/%C3%81rea%20de%20Trabalho/ADA/Machine%20Learning%20I%20-%20Pasta%20Geral/modelo-de-machine-learning-predicao-da-qualidade-de-vinho/analise_exploratoria.ipynb#W0sZmlsZQ%3D%3D?line=14'>15</a>\u001b[0m \u001b[39m# Classificação\u001b[39;00m\n\u001b[1;32m     <a href='vscode-notebook-cell:/home/clara/%C3%81rea%20de%20Trabalho/ADA/Machine%20Learning%20I%20-%20Pasta%20Geral/modelo-de-machine-learning-predicao-da-qualidade-de-vinho/analise_exploratoria.ipynb#W0sZmlsZQ%3D%3D?line=15'>16</a>\u001b[0m \u001b[39mfrom\u001b[39;00m \u001b[39msklearn\u001b[39;00m\u001b[39m.\u001b[39;00m\u001b[39mlinear_model\u001b[39;00m \u001b[39mimport\u001b[39;00m LogisticRegression\n",
      "\u001b[0;31mModuleNotFoundError\u001b[0m: No module named 'missingno'"
     ]
    }
   ],
   "source": [
    "# Ignorar os avisos\n",
    "import warnings\n",
    "warnings.filterwarnings('always')\n",
    "warnings.filterwarnings('ignore')\n",
    "\n",
    "# Visualização e manipulação de dados\n",
    "import numpy as np\n",
    "import pandas as pd\n",
    "import matplotlib.pyplot as plt\n",
    "from matplotlib import style\n",
    "import seaborn as sns\n",
    "import missingno as msno\n",
    "\n",
    "\n",
    "# Classificação\n",
    "from sklearn.linear_model import LogisticRegression\n",
    "from sklearn.svm import LinearSVC, SVC\n",
    "from sklearn.neighbors import KNeighborsClassifier\n",
    "from sklearn.ensemble import RandomForestClassifier, GradientBoostingClassifier, AdaBoostClassifier\n",
    "from sklearn.tree import DecisionTreeClassifier\n",
    "from sklearn.naive_bayes import GaussianNB\n",
    "\n",
    "\n",
    "# Regressão\n",
    "from sklearn.linear_model import LinearRegression, Ridge, Lasso, RidgeCV\n",
    "from sklearn.ensemble import RandomForestRegressor, BaggingRegressor, GradientBoostingRegressor, AdaBoostRegressor\n",
    "from sklearn.svm import SVR\n",
    "from sklearn.neighbors import KNeighborsRegressor\n",
    "\n",
    "\n",
    "# Pré-processamento\n",
    "from sklearn.preprocessing import MinMaxScaler, StandardScaler, Imputer, LabelEncoder\n",
    "\n",
    "\n",
    "# Métricas de avaliação\n",
    "from sklearn.metrics import mean_squared_log_error, mean_squared_error, r2_score, mean_absolute_error  #para regressão\n",
    "from sklearn.metrics import accuracy_score, precision_score, recall_score, f1_score  #para classificação\n",
    "\n"
   ]
  }
 ],
 "metadata": {
  "kernelspec": {
   "display_name": "Python 3",
   "language": "python",
   "name": "python3"
  },
  "language_info": {
   "codemirror_mode": {
    "name": "ipython",
    "version": 3
   },
   "file_extension": ".py",
   "mimetype": "text/x-python",
   "name": "python",
   "nbconvert_exporter": "python",
   "pygments_lexer": "ipython3",
   "version": "3.10.12"
  }
 },
 "nbformat": 4,
 "nbformat_minor": 2
}
